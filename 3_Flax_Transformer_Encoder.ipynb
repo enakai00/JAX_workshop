{
  "nbformat": 4,
  "nbformat_minor": 0,
  "metadata": {
    "colab": {
      "provenance": [],
      "collapsed_sections": [
        "gyvTZ5RWEkZT",
        "FNSxUKI0hZJd",
        "k0JBuAblEpI6",
        "gC8Z9jDaVSLF",
        "wBEB5uHfjBfg",
        "sID61pmFdPxG",
        "Sn4JgGY3Mj_T",
        "J06iA3egoGL7"
      ],
      "include_colab_link": true
    },
    "kernelspec": {
      "name": "python3",
      "display_name": "Python 3"
    },
    "language_info": {
      "name": "python"
    },
    "gpuClass": "standard",
    "accelerator": "GPU",
    "widgets": {
      "application/vnd.jupyter.widget-state+json": {
        "41ad7c6554b6456798c04327e6efe2b4": {
          "model_module": "@jupyter-widgets/controls",
          "model_name": "HBoxModel",
          "model_module_version": "1.5.0",
          "state": {
            "_dom_classes": [],
            "_model_module": "@jupyter-widgets/controls",
            "_model_module_version": "1.5.0",
            "_model_name": "HBoxModel",
            "_view_count": null,
            "_view_module": "@jupyter-widgets/controls",
            "_view_module_version": "1.5.0",
            "_view_name": "HBoxView",
            "box_style": "",
            "children": [
              "IPY_MODEL_faa8ac6b22a24c6588900b4df436406e",
              "IPY_MODEL_2d9f2b8d3225427480fdf29c62e6f6c3",
              "IPY_MODEL_cc8b5dc85c7b4039a8dc025aceba7fa6"
            ],
            "layout": "IPY_MODEL_97d53cb427824bbebc156761739357ef"
          }
        },
        "faa8ac6b22a24c6588900b4df436406e": {
          "model_module": "@jupyter-widgets/controls",
          "model_name": "HTMLModel",
          "model_module_version": "1.5.0",
          "state": {
            "_dom_classes": [],
            "_model_module": "@jupyter-widgets/controls",
            "_model_module_version": "1.5.0",
            "_model_name": "HTMLModel",
            "_view_count": null,
            "_view_module": "@jupyter-widgets/controls",
            "_view_module_version": "1.5.0",
            "_view_name": "HTMLView",
            "description": "",
            "description_tooltip": null,
            "layout": "IPY_MODEL_bf69d3acca42498fa6156d8d578f5261",
            "placeholder": "​",
            "style": "IPY_MODEL_11ce1fede74144c1aa1426a7091ed2c2",
            "value": "100%"
          }
        },
        "2d9f2b8d3225427480fdf29c62e6f6c3": {
          "model_module": "@jupyter-widgets/controls",
          "model_name": "FloatProgressModel",
          "model_module_version": "1.5.0",
          "state": {
            "_dom_classes": [],
            "_model_module": "@jupyter-widgets/controls",
            "_model_module_version": "1.5.0",
            "_model_name": "FloatProgressModel",
            "_view_count": null,
            "_view_module": "@jupyter-widgets/controls",
            "_view_module_version": "1.5.0",
            "_view_name": "ProgressView",
            "bar_style": "success",
            "description": "",
            "description_tooltip": null,
            "layout": "IPY_MODEL_936642fdbd3243aabb04692a13d3063c",
            "max": 3,
            "min": 0,
            "orientation": "horizontal",
            "style": "IPY_MODEL_89fac94d27704f1ba7cd979bed6e1694",
            "value": 3
          }
        },
        "cc8b5dc85c7b4039a8dc025aceba7fa6": {
          "model_module": "@jupyter-widgets/controls",
          "model_name": "HTMLModel",
          "model_module_version": "1.5.0",
          "state": {
            "_dom_classes": [],
            "_model_module": "@jupyter-widgets/controls",
            "_model_module_version": "1.5.0",
            "_model_name": "HTMLModel",
            "_view_count": null,
            "_view_module": "@jupyter-widgets/controls",
            "_view_module_version": "1.5.0",
            "_view_name": "HTMLView",
            "description": "",
            "description_tooltip": null,
            "layout": "IPY_MODEL_426c5c5579dd498697570b269151ddd5",
            "placeholder": "​",
            "style": "IPY_MODEL_5e1b2a23d44944709918a2a06313c2af",
            "value": " 3/3 [00:00&lt;00:00, 87.59it/s]"
          }
        },
        "97d53cb427824bbebc156761739357ef": {
          "model_module": "@jupyter-widgets/base",
          "model_name": "LayoutModel",
          "model_module_version": "1.2.0",
          "state": {
            "_model_module": "@jupyter-widgets/base",
            "_model_module_version": "1.2.0",
            "_model_name": "LayoutModel",
            "_view_count": null,
            "_view_module": "@jupyter-widgets/base",
            "_view_module_version": "1.2.0",
            "_view_name": "LayoutView",
            "align_content": null,
            "align_items": null,
            "align_self": null,
            "border": null,
            "bottom": null,
            "display": null,
            "flex": null,
            "flex_flow": null,
            "grid_area": null,
            "grid_auto_columns": null,
            "grid_auto_flow": null,
            "grid_auto_rows": null,
            "grid_column": null,
            "grid_gap": null,
            "grid_row": null,
            "grid_template_areas": null,
            "grid_template_columns": null,
            "grid_template_rows": null,
            "height": null,
            "justify_content": null,
            "justify_items": null,
            "left": null,
            "margin": null,
            "max_height": null,
            "max_width": null,
            "min_height": null,
            "min_width": null,
            "object_fit": null,
            "object_position": null,
            "order": null,
            "overflow": null,
            "overflow_x": null,
            "overflow_y": null,
            "padding": null,
            "right": null,
            "top": null,
            "visibility": null,
            "width": null
          }
        },
        "bf69d3acca42498fa6156d8d578f5261": {
          "model_module": "@jupyter-widgets/base",
          "model_name": "LayoutModel",
          "model_module_version": "1.2.0",
          "state": {
            "_model_module": "@jupyter-widgets/base",
            "_model_module_version": "1.2.0",
            "_model_name": "LayoutModel",
            "_view_count": null,
            "_view_module": "@jupyter-widgets/base",
            "_view_module_version": "1.2.0",
            "_view_name": "LayoutView",
            "align_content": null,
            "align_items": null,
            "align_self": null,
            "border": null,
            "bottom": null,
            "display": null,
            "flex": null,
            "flex_flow": null,
            "grid_area": null,
            "grid_auto_columns": null,
            "grid_auto_flow": null,
            "grid_auto_rows": null,
            "grid_column": null,
            "grid_gap": null,
            "grid_row": null,
            "grid_template_areas": null,
            "grid_template_columns": null,
            "grid_template_rows": null,
            "height": null,
            "justify_content": null,
            "justify_items": null,
            "left": null,
            "margin": null,
            "max_height": null,
            "max_width": null,
            "min_height": null,
            "min_width": null,
            "object_fit": null,
            "object_position": null,
            "order": null,
            "overflow": null,
            "overflow_x": null,
            "overflow_y": null,
            "padding": null,
            "right": null,
            "top": null,
            "visibility": null,
            "width": null
          }
        },
        "11ce1fede74144c1aa1426a7091ed2c2": {
          "model_module": "@jupyter-widgets/controls",
          "model_name": "DescriptionStyleModel",
          "model_module_version": "1.5.0",
          "state": {
            "_model_module": "@jupyter-widgets/controls",
            "_model_module_version": "1.5.0",
            "_model_name": "DescriptionStyleModel",
            "_view_count": null,
            "_view_module": "@jupyter-widgets/base",
            "_view_module_version": "1.2.0",
            "_view_name": "StyleView",
            "description_width": ""
          }
        },
        "936642fdbd3243aabb04692a13d3063c": {
          "model_module": "@jupyter-widgets/base",
          "model_name": "LayoutModel",
          "model_module_version": "1.2.0",
          "state": {
            "_model_module": "@jupyter-widgets/base",
            "_model_module_version": "1.2.0",
            "_model_name": "LayoutModel",
            "_view_count": null,
            "_view_module": "@jupyter-widgets/base",
            "_view_module_version": "1.2.0",
            "_view_name": "LayoutView",
            "align_content": null,
            "align_items": null,
            "align_self": null,
            "border": null,
            "bottom": null,
            "display": null,
            "flex": null,
            "flex_flow": null,
            "grid_area": null,
            "grid_auto_columns": null,
            "grid_auto_flow": null,
            "grid_auto_rows": null,
            "grid_column": null,
            "grid_gap": null,
            "grid_row": null,
            "grid_template_areas": null,
            "grid_template_columns": null,
            "grid_template_rows": null,
            "height": null,
            "justify_content": null,
            "justify_items": null,
            "left": null,
            "margin": null,
            "max_height": null,
            "max_width": null,
            "min_height": null,
            "min_width": null,
            "object_fit": null,
            "object_position": null,
            "order": null,
            "overflow": null,
            "overflow_x": null,
            "overflow_y": null,
            "padding": null,
            "right": null,
            "top": null,
            "visibility": null,
            "width": null
          }
        },
        "89fac94d27704f1ba7cd979bed6e1694": {
          "model_module": "@jupyter-widgets/controls",
          "model_name": "ProgressStyleModel",
          "model_module_version": "1.5.0",
          "state": {
            "_model_module": "@jupyter-widgets/controls",
            "_model_module_version": "1.5.0",
            "_model_name": "ProgressStyleModel",
            "_view_count": null,
            "_view_module": "@jupyter-widgets/base",
            "_view_module_version": "1.2.0",
            "_view_name": "StyleView",
            "bar_color": null,
            "description_width": ""
          }
        },
        "426c5c5579dd498697570b269151ddd5": {
          "model_module": "@jupyter-widgets/base",
          "model_name": "LayoutModel",
          "model_module_version": "1.2.0",
          "state": {
            "_model_module": "@jupyter-widgets/base",
            "_model_module_version": "1.2.0",
            "_model_name": "LayoutModel",
            "_view_count": null,
            "_view_module": "@jupyter-widgets/base",
            "_view_module_version": "1.2.0",
            "_view_name": "LayoutView",
            "align_content": null,
            "align_items": null,
            "align_self": null,
            "border": null,
            "bottom": null,
            "display": null,
            "flex": null,
            "flex_flow": null,
            "grid_area": null,
            "grid_auto_columns": null,
            "grid_auto_flow": null,
            "grid_auto_rows": null,
            "grid_column": null,
            "grid_gap": null,
            "grid_row": null,
            "grid_template_areas": null,
            "grid_template_columns": null,
            "grid_template_rows": null,
            "height": null,
            "justify_content": null,
            "justify_items": null,
            "left": null,
            "margin": null,
            "max_height": null,
            "max_width": null,
            "min_height": null,
            "min_width": null,
            "object_fit": null,
            "object_position": null,
            "order": null,
            "overflow": null,
            "overflow_x": null,
            "overflow_y": null,
            "padding": null,
            "right": null,
            "top": null,
            "visibility": null,
            "width": null
          }
        },
        "5e1b2a23d44944709918a2a06313c2af": {
          "model_module": "@jupyter-widgets/controls",
          "model_name": "DescriptionStyleModel",
          "model_module_version": "1.5.0",
          "state": {
            "_model_module": "@jupyter-widgets/controls",
            "_model_module_version": "1.5.0",
            "_model_name": "DescriptionStyleModel",
            "_view_count": null,
            "_view_module": "@jupyter-widgets/base",
            "_view_module_version": "1.2.0",
            "_view_name": "StyleView",
            "description_width": ""
          }
        }
      }
    }
  },
  "cells": [
    {
      "cell_type": "markdown",
      "metadata": {
        "id": "view-in-github",
        "colab_type": "text"
      },
      "source": [
        "<a href=\"https://colab.research.google.com/github/enakai00/JAX_workshop/blob/main/3_Flax_Transformer_Encoder.ipynb\" target=\"_parent\"><img src=\"https://colab.research.google.com/assets/colab-badge.svg\" alt=\"Open In Colab\"/></a>"
      ]
    },
    {
      "cell_type": "markdown",
      "source": [
        "このノートブックでは、Transformer Encoder によるテキスト分類モデルの実装しています。\n",
        "\n",
        "解説はこちらの[記事](https://enakai00.hatenablog.com/entry/2023/02/10/102036)を参照してください。"
      ],
      "metadata": {
        "id": "OoBPm48vUWl6"
      }
    },
    {
      "cell_type": "markdown",
      "source": [
        "## Preparation"
      ],
      "metadata": {
        "id": "gyvTZ5RWEkZT"
      }
    },
    {
      "cell_type": "code",
      "source": [
        "%%bash\n",
        "pip install -q git+https://github.com/huggingface/transformers.git datasets\n",
        "pip install -q flax==0.6.1 jax==0.3.25 jaxlib==0.3.25+cuda11.cudnn805 optax==0.1.3 jedi -f https://storage.googleapis.com/jax-releases/jax_cuda_releases.html"
      ],
      "metadata": {
        "id": "iHCR_0TOrurk"
      },
      "execution_count": 1,
      "outputs": []
    },
    {
      "cell_type": "code",
      "source": [
        "import numpy as np\n",
        "import matplotlib.pyplot as plt\n",
        "from pandas import DataFrame\n",
        "from functools import partial\n",
        "\n",
        "import jax, optax\n",
        "from jax import random, numpy as jnp\n",
        "from flax import linen as nn\n",
        "from flax.training import train_state\n",
        "from flax.training import train_state, checkpoints\n",
        "\n",
        "plt.rcParams.update({'font.size': 10})"
      ],
      "metadata": {
        "id": "1XxDlqTEC_xx"
      },
      "execution_count": 2,
      "outputs": []
    },
    {
      "cell_type": "markdown",
      "source": [
        "## Prepare dataset"
      ],
      "metadata": {
        "id": "FNSxUKI0hZJd"
      }
    },
    {
      "cell_type": "code",
      "source": [
        "from datasets import load_dataset\n",
        "emotions = load_dataset('emotion')"
      ],
      "metadata": {
        "colab": {
          "base_uri": "https://localhost:8080/",
          "referenced_widgets": [
            "41ad7c6554b6456798c04327e6efe2b4",
            "faa8ac6b22a24c6588900b4df436406e",
            "2d9f2b8d3225427480fdf29c62e6f6c3",
            "cc8b5dc85c7b4039a8dc025aceba7fa6",
            "97d53cb427824bbebc156761739357ef",
            "bf69d3acca42498fa6156d8d578f5261",
            "11ce1fede74144c1aa1426a7091ed2c2",
            "936642fdbd3243aabb04692a13d3063c",
            "89fac94d27704f1ba7cd979bed6e1694",
            "426c5c5579dd498697570b269151ddd5",
            "5e1b2a23d44944709918a2a06313c2af"
          ],
          "height": 86
        },
        "id": "1NmH9v1EfTOU",
        "outputId": "5827d677-77ba-4a1d-b897-9bbd14f4ccb0"
      },
      "execution_count": 3,
      "outputs": [
        {
          "output_type": "stream",
          "name": "stderr",
          "text": [
            "WARNING:datasets.builder:No config specified, defaulting to: emotion/split\n",
            "WARNING:datasets.builder:Found cached dataset emotion (/root/.cache/huggingface/datasets/emotion/split/1.0.0/cca5efe2dfeb58c1d098e0f9eeb200e9927d889b5a03c67097275dfb5fe463bd)\n"
          ]
        },
        {
          "output_type": "display_data",
          "data": {
            "text/plain": [
              "  0%|          | 0/3 [00:00<?, ?it/s]"
            ],
            "application/vnd.jupyter.widget-view+json": {
              "version_major": 2,
              "version_minor": 0,
              "model_id": "41ad7c6554b6456798c04327e6efe2b4"
            }
          },
          "metadata": {}
        }
      ]
    },
    {
      "cell_type": "code",
      "source": [
        "emotions['train']['text'][:3]"
      ],
      "metadata": {
        "colab": {
          "base_uri": "https://localhost:8080/"
        },
        "id": "UxG5lTsSPAXV",
        "outputId": "85443078-5085-4a0b-e53b-01f011cb31f0"
      },
      "execution_count": 4,
      "outputs": [
        {
          "output_type": "execute_result",
          "data": {
            "text/plain": [
              "['i didnt feel humiliated',\n",
              " 'i can go from feeling so hopeless to so damned hopeful just from being around someone who cares and is awake',\n",
              " 'im grabbing a minute to post i feel greedy wrong']"
            ]
          },
          "metadata": {},
          "execution_count": 4
        }
      ]
    },
    {
      "cell_type": "code",
      "source": [
        "from transformers import AutoTokenizer, AutoConfig\n",
        "model_ckpt = 'bert-base-uncased'\n",
        "tokenizer = AutoTokenizer.from_pretrained(model_ckpt)\n",
        "vocab_size = AutoConfig.from_pretrained(model_ckpt).vocab_size\n",
        "\n",
        "vocab_size"
      ],
      "metadata": {
        "colab": {
          "base_uri": "https://localhost:8080/"
        },
        "id": "jBcUsNKPuFZ4",
        "outputId": "6ff0d974-8785-42ae-c277-bb965f5d1048"
      },
      "execution_count": 5,
      "outputs": [
        {
          "output_type": "execute_result",
          "data": {
            "text/plain": [
              "30522"
            ]
          },
          "metadata": {},
          "execution_count": 5
        }
      ]
    },
    {
      "cell_type": "code",
      "source": [
        "max([len(text.split(' '))\n",
        "     for text in emotions['train']['text'] + emotions['validation']['text']])"
      ],
      "metadata": {
        "colab": {
          "base_uri": "https://localhost:8080/"
        },
        "id": "z3RE4C0nxEm6",
        "outputId": "485b9766-1c55-42c6-fa21-e576746cdcea"
      },
      "execution_count": 6,
      "outputs": [
        {
          "output_type": "execute_result",
          "data": {
            "text/plain": [
              "66"
            ]
          },
          "metadata": {},
          "execution_count": 6
        }
      ]
    },
    {
      "cell_type": "code",
      "source": [
        "text_length = 128\n",
        "\n",
        "# Training set\n",
        "train_set = tokenizer(emotions['train']['text'], max_length=text_length,\n",
        "                      padding='max_length', truncation=True)\n",
        "train_text = np.array(train_set['input_ids'])\n",
        "train_mask = np.array(train_set['attention_mask'])\n",
        "train_label = np.eye(6)[emotions['train']['label']]\n",
        "\n",
        "# Test set\n",
        "test_set = tokenizer(emotions['validation']['text'], max_length=text_length,\n",
        "                     padding='max_length', truncation=True)\n",
        "test_text = np.array(test_set['input_ids'])\n",
        "test_mask = np.array(test_set['attention_mask'])\n",
        "test_label = np.eye(6)[emotions['validation']['label']]\n",
        "\n",
        "emotion_labels = emotions['train'].features['label'].names"
      ],
      "metadata": {
        "id": "oxH-9Pt7hxNa"
      },
      "execution_count": 7,
      "outputs": []
    },
    {
      "cell_type": "code",
      "source": [
        "train_text[0]"
      ],
      "metadata": {
        "colab": {
          "base_uri": "https://localhost:8080/"
        },
        "id": "X4HaT_G3POLJ",
        "outputId": "b7cefb11-1996-4dd3-c1ff-2cebd6f787fc"
      },
      "execution_count": 8,
      "outputs": [
        {
          "output_type": "execute_result",
          "data": {
            "text/plain": [
              "array([  101,  1045,  2134,  2102,  2514, 26608,   102,     0,     0,\n",
              "           0,     0,     0,     0,     0,     0,     0,     0,     0,\n",
              "           0,     0,     0,     0,     0,     0,     0,     0,     0,\n",
              "           0,     0,     0,     0,     0,     0,     0,     0,     0,\n",
              "           0,     0,     0,     0,     0,     0,     0,     0,     0,\n",
              "           0,     0,     0,     0,     0,     0,     0,     0,     0,\n",
              "           0,     0,     0,     0,     0,     0,     0,     0,     0,\n",
              "           0,     0,     0,     0,     0,     0,     0,     0,     0,\n",
              "           0,     0,     0,     0,     0,     0,     0,     0,     0,\n",
              "           0,     0,     0,     0,     0,     0,     0,     0,     0,\n",
              "           0,     0,     0,     0,     0,     0,     0,     0,     0,\n",
              "           0,     0,     0,     0,     0,     0,     0,     0,     0,\n",
              "           0,     0,     0,     0,     0,     0,     0,     0,     0,\n",
              "           0,     0,     0,     0,     0,     0,     0,     0,     0,\n",
              "           0,     0])"
            ]
          },
          "metadata": {},
          "execution_count": 8
        }
      ]
    },
    {
      "cell_type": "code",
      "source": [
        "train_mask[0]"
      ],
      "metadata": {
        "colab": {
          "base_uri": "https://localhost:8080/"
        },
        "id": "wWco86tKPUmn",
        "outputId": "336d2720-18a1-4912-89b3-6f64920e5812"
      },
      "execution_count": 9,
      "outputs": [
        {
          "output_type": "execute_result",
          "data": {
            "text/plain": [
              "array([1, 1, 1, 1, 1, 1, 1, 0, 0, 0, 0, 0, 0, 0, 0, 0, 0, 0, 0, 0, 0, 0,\n",
              "       0, 0, 0, 0, 0, 0, 0, 0, 0, 0, 0, 0, 0, 0, 0, 0, 0, 0, 0, 0, 0, 0,\n",
              "       0, 0, 0, 0, 0, 0, 0, 0, 0, 0, 0, 0, 0, 0, 0, 0, 0, 0, 0, 0, 0, 0,\n",
              "       0, 0, 0, 0, 0, 0, 0, 0, 0, 0, 0, 0, 0, 0, 0, 0, 0, 0, 0, 0, 0, 0,\n",
              "       0, 0, 0, 0, 0, 0, 0, 0, 0, 0, 0, 0, 0, 0, 0, 0, 0, 0, 0, 0, 0, 0,\n",
              "       0, 0, 0, 0, 0, 0, 0, 0, 0, 0, 0, 0, 0, 0, 0, 0, 0, 0])"
            ]
          },
          "metadata": {},
          "execution_count": 9
        }
      ]
    },
    {
      "cell_type": "code",
      "source": [
        "train_label[0]"
      ],
      "metadata": {
        "colab": {
          "base_uri": "https://localhost:8080/"
        },
        "id": "HRJn3RlnPYac",
        "outputId": "fecb7b07-f28d-4ccf-e5de-e63c357776b7"
      },
      "execution_count": 10,
      "outputs": [
        {
          "output_type": "execute_result",
          "data": {
            "text/plain": [
              "array([1., 0., 0., 0., 0., 0.])"
            ]
          },
          "metadata": {},
          "execution_count": 10
        }
      ]
    },
    {
      "cell_type": "code",
      "source": [
        "emotion_labels"
      ],
      "metadata": {
        "colab": {
          "base_uri": "https://localhost:8080/"
        },
        "id": "GjVcdg8RPsBz",
        "outputId": "080f78eb-c4e9-4c85-fa97-ace47e800510"
      },
      "execution_count": 11,
      "outputs": [
        {
          "output_type": "execute_result",
          "data": {
            "text/plain": [
              "['sadness', 'joy', 'love', 'anger', 'fear', 'surprise']"
            ]
          },
          "metadata": {},
          "execution_count": 11
        }
      ]
    },
    {
      "cell_type": "markdown",
      "source": [
        "## Embedding layer"
      ],
      "metadata": {
        "id": "k0JBuAblEpI6"
      }
    },
    {
      "cell_type": "code",
      "source": [
        "class Embeddings(nn.Module):\n",
        "    embed_dim: int\n",
        "    text_length: int = text_length\n",
        "    vocab_size: int = vocab_size\n",
        "\n",
        "    @nn.compact\n",
        "    def __call__(self, input_ids, eval):\n",
        "        token_embeddings = nn.Embed(\n",
        "            self.vocab_size, self.embed_dim)(input_ids)\n",
        "        position_ids = jnp.arange(self.text_length)\n",
        "        position_embeddings = nn.Embed(\n",
        "            self.text_length, self.embed_dim)(position_ids)\n",
        "        embeddings = token_embeddings + position_embeddings # broadcast\n",
        "        embeddings = nn.LayerNorm(epsilon=1e-12)(embeddings)\n",
        "        embeddings = nn.Dropout(0.5, deterministic=eval)(embeddings)\n",
        "        return embeddings"
      ],
      "metadata": {
        "id": "V4CyMBHquIwt"
      },
      "execution_count": 12,
      "outputs": []
    },
    {
      "cell_type": "code",
      "source": [
        "variables = Embeddings(embed_dim=512).init(random.PRNGKey(0), train_text[:1], eval=True)\n",
        "jax.tree_util.tree_map(lambda x: x.shape, variables['params'])"
      ],
      "metadata": {
        "colab": {
          "base_uri": "https://localhost:8080/"
        },
        "id": "RvqBywNthkR3",
        "outputId": "59122b11-cd05-4228-d46a-e6727e62d541"
      },
      "execution_count": 13,
      "outputs": [
        {
          "output_type": "execute_result",
          "data": {
            "text/plain": [
              "FrozenDict({\n",
              "    Embed_0: {\n",
              "        embedding: (30522, 512),\n",
              "    },\n",
              "    Embed_1: {\n",
              "        embedding: (128, 512),\n",
              "    },\n",
              "    LayerNorm_0: {\n",
              "        bias: (512,),\n",
              "        scale: (512,),\n",
              "    },\n",
              "})"
            ]
          },
          "metadata": {},
          "execution_count": 13
        }
      ]
    },
    {
      "cell_type": "code",
      "source": [
        "input_text = train_text[:3]\n",
        "output = Embeddings(embed_dim=512).apply(variables, input_text, eval=True)\n",
        "input_text.shape, output.shape"
      ],
      "metadata": {
        "colab": {
          "base_uri": "https://localhost:8080/"
        },
        "id": "VOpssNIR0a1M",
        "outputId": "e7b3267c-6820-4af1-8638-c10dcba08ff8"
      },
      "execution_count": 14,
      "outputs": [
        {
          "output_type": "execute_result",
          "data": {
            "text/plain": [
              "((3, 128), (3, 128, 512))"
            ]
          },
          "metadata": {},
          "execution_count": 14
        }
      ]
    },
    {
      "cell_type": "markdown",
      "source": [
        "## Multi-head Attention"
      ],
      "metadata": {
        "id": "gC8Z9jDaVSLF"
      }
    },
    {
      "cell_type": "code",
      "source": [
        "class AttentionHead(nn.Module):\n",
        "    head_dim: int\n",
        "\n",
        "    def scaled_dot_product_attention(self, q, k, v, mask):\n",
        "        scores = jnp.matmul(q, jnp.transpose(k, (0, 2, 1)))\n",
        "        if mask is not None:\n",
        "            mask = jnp.tile(mask, mask.shape[-1]).reshape(\n",
        "                    mask.shape[0], -1, mask.shape[-1])\n",
        "            scores = jnp.where(mask==0, -jnp.inf, scores)\n",
        "        w = nn.softmax(scores / jnp.sqrt(self.head_dim))\n",
        "        return jnp.matmul(w, v)\n",
        "\n",
        "    @nn.compact\n",
        "    def __call__(self, hidden_state, attention_mask):\n",
        "        q = nn.Dense(features=self.head_dim)(hidden_state)\n",
        "        k = nn.Dense(features=self.head_dim)(hidden_state)\n",
        "        v = nn.Dense(features=self.head_dim)(hidden_state)\n",
        "        output = self.scaled_dot_product_attention(q, k, v, attention_mask)\n",
        "        return output"
      ],
      "metadata": {
        "id": "k31efFVQVY5k"
      },
      "execution_count": 15,
      "outputs": []
    },
    {
      "cell_type": "code",
      "source": [
        "class MultiHeadAttention(nn.Module):\n",
        "    num_heads: int\n",
        "    embed_dim: int\n",
        "\n",
        "    def setup(self):\n",
        "        head_dim=self.embed_dim // self.num_heads\n",
        "        self.attention_heads = [AttentionHead(head_dim=head_dim)\n",
        "                                for _ in jnp.arange(self.num_heads)]\n",
        "\n",
        "    @nn.compact\n",
        "    def __call__(self, hidden_state, attention_mask):\n",
        "        attention_outputs = [head(hidden_state, attention_mask)\n",
        "                             for head in self.attention_heads]\n",
        "        x = jnp.concatenate(attention_outputs, axis=-1)\n",
        "        x = nn.Dense(features=self.embed_dim)(x)\n",
        "        return x"
      ],
      "metadata": {
        "id": "4_bqs_zWdw8n"
      },
      "execution_count": 16,
      "outputs": []
    },
    {
      "cell_type": "markdown",
      "source": [
        "## Transformer Encoder Block"
      ],
      "metadata": {
        "id": "wBEB5uHfjBfg"
      }
    },
    {
      "cell_type": "code",
      "source": [
        "class FeedForward(nn.Module):\n",
        "    embed_dim: int\n",
        "    intermediate_size: int = 2048\n",
        "\n",
        "    @nn.compact\n",
        "    def __call__(self, x, eval):\n",
        "        x = nn.Dense(features=self.intermediate_size)(x)\n",
        "        x = nn.relu(x)\n",
        "        x = nn.Dense(features=self.embed_dim)(x)\n",
        "        x = nn.Dropout(0.1, deterministic=eval)(x)\n",
        "        return x"
      ],
      "metadata": {
        "id": "cxuv0x_AHvlW"
      },
      "execution_count": 17,
      "outputs": []
    },
    {
      "cell_type": "code",
      "source": [
        "class TransformerEncoderBlock(nn.Module):\n",
        "    num_heads: int\n",
        "    embed_dim: int\n",
        "\n",
        "    def setup(self):\n",
        "        self.attention = MultiHeadAttention(\n",
        "            num_heads=self.num_heads, embed_dim=self.embed_dim)\n",
        "        self.feed_forward = FeedForward(embed_dim=self.embed_dim)\n",
        "\n",
        "    @nn.compact\n",
        "    def __call__(self, x, attention_mask, eval):\n",
        "        x = x + self.attention(x, attention_mask) # Skip connection\n",
        "        x = nn.LayerNorm()(x)\n",
        "        x = x + self.feed_forward(x, eval) # Skip connection\n",
        "        x = nn.LayerNorm()(x)\n",
        "        return x"
      ],
      "metadata": {
        "id": "JSCctgOyUOTo"
      },
      "execution_count": 18,
      "outputs": []
    },
    {
      "cell_type": "markdown",
      "source": [
        "## Combine them all to define Transformer Encoder"
      ],
      "metadata": {
        "id": "sID61pmFdPxG"
      }
    },
    {
      "cell_type": "code",
      "source": [
        "class TransformerEncoder(nn.Module):\n",
        "    num_heads: int\n",
        "    embed_dim: int\n",
        "    num_hidden_layers: int\n",
        "\n",
        "    def setup(self):\n",
        "        self.embeddings = Embeddings(self.embed_dim)\n",
        "        self.layers = [TransformerEncoderBlock(num_heads=self.num_heads,\n",
        "                                               embed_dim=self.embed_dim)\n",
        "                       for _ in range(self.num_hidden_layers)]\n",
        "\n",
        "    def __call__(self, input_ids, attention_mask, eval):\n",
        "        x = self.embeddings(input_ids, eval)\n",
        "        for layer in self.layers:\n",
        "            x = layer(x, attention_mask, eval=eval)\n",
        "        return x"
      ],
      "metadata": {
        "id": "98VTLi5wZMFR"
      },
      "execution_count": 19,
      "outputs": []
    },
    {
      "cell_type": "markdown",
      "source": [
        "## Add Classification Head"
      ],
      "metadata": {
        "id": "Sn4JgGY3Mj_T"
      }
    },
    {
      "cell_type": "code",
      "source": [
        "class TransformerForSequenceClassification(nn.Module):\n",
        "    num_labels: int\n",
        "    num_heads: int\n",
        "    embed_dim: int\n",
        "    num_hidden_layers: int\n",
        "\n",
        "    def setup(self):\n",
        "        self.transformer_encoder = TransformerEncoder(\n",
        "            self.num_heads, self.embed_dim, self.num_hidden_layers)\n",
        "\n",
        "    @nn.compact\n",
        "    def __call__(self, input_ids, attention_mask=None, eval=True):\n",
        "        x = self.transformer_encoder(input_ids, attention_mask, eval)[:, 0, :] # select [CLS] token\n",
        "        x = nn.Dropout(0.1, deterministic=eval)(x)\n",
        "        logits = nn.Dense(features=self.num_labels)(x)\n",
        "        return logits"
      ],
      "metadata": {
        "id": "x6g65FzfMoVX"
      },
      "execution_count": 20,
      "outputs": []
    },
    {
      "cell_type": "markdown",
      "source": [
        "## Define functions for model training"
      ],
      "metadata": {
        "id": "J06iA3egoGL7"
      }
    },
    {
      "cell_type": "code",
      "source": [
        "@partial(jax.jit, static_argnames=['eval'])\n",
        "def loss_fn(params, state, inputs, masks, labels, dropout_rng, eval):\n",
        "    logits = state.apply_fn(\n",
        "        {'params': params}, inputs, masks, eval=eval,\n",
        "        rngs={'dropout': dropout_rng})\n",
        "    loss = optax.softmax_cross_entropy(logits, labels).mean()\n",
        "    acc = jnp.mean(jnp.argmax(logits, -1) == jnp.argmax(labels, -1))\n",
        "    return loss, acc"
      ],
      "metadata": {
        "id": "IXwYrA6IV8Ye"
      },
      "execution_count": 21,
      "outputs": []
    },
    {
      "cell_type": "code",
      "source": [
        "@partial(jax.jit, static_argnames=['eval'])\n",
        "def train_step(state, inputs, masks, labels, eval):\n",
        "    if not eval:\n",
        "        new_dropout_rng, dropout_rng = random.split(state.dropout_rng)\n",
        "        (loss, acc), grads = jax.value_and_grad(loss_fn, has_aux=True)(\n",
        "            state.params, state, inputs, masks, labels, dropout_rng, eval)\n",
        "        new_state = state.apply_gradients(\n",
        "            grads=grads, dropout_rng=new_dropout_rng)\n",
        "    else:\n",
        "        loss, acc = loss_fn(\n",
        "            state.params, state, inputs, masks, labels, random.PRNGKey(0), eval)\n",
        "        new_state = state\n",
        "\n",
        "    return new_state, loss, acc"
      ],
      "metadata": {
        "id": "8WRDRga7XoDI"
      },
      "execution_count": 22,
      "outputs": []
    },
    {
      "cell_type": "code",
      "source": [
        "def train_epoch(state, input_batched, mask_batched, label_batched, eval):\n",
        "    loss_history, acc_history = [], []\n",
        "    for inputs, masks, labels in zip(input_batched, mask_batched, label_batched):\n",
        "        new_state, loss, acc = train_step(state, inputs, masks, labels, eval)\n",
        "        if not eval:\n",
        "            state = new_state\n",
        "        loss_history.append(jax.device_get(loss).tolist())\n",
        "        acc_history.append(jax.device_get(acc).tolist())\n",
        "    return state, np.mean(loss_history), np.mean(acc_history)"
      ],
      "metadata": {
        "id": "JeXBsqDoXs0u"
      },
      "execution_count": 23,
      "outputs": []
    },
    {
      "cell_type": "code",
      "source": [
        "def create_batches(data, batch_size):\n",
        "    num_batches, mod = divmod(len(data), batch_size)\n",
        "    data_batched = np.split(data[:num_batches * batch_size], num_batches)\n",
        "    if mod: # Last batch is smaller than batch_size\n",
        "        data_batched.append(data[num_batches * batch_size:])\n",
        "    data_batched = [jnp.asarray(x) for x in data_batched]\n",
        "    return data_batched"
      ],
      "metadata": {
        "id": "JW6X3cc45yOf"
      },
      "execution_count": 24,
      "outputs": []
    },
    {
      "cell_type": "code",
      "source": [
        "def fit(state, ckpt_dir, prefix,\n",
        "        train_text, train_mask, train_label,\n",
        "        test_text, test_mask, test_label,\n",
        "        epochs, batch_size):\n",
        "\n",
        "    state = checkpoints.restore_checkpoint(\n",
        "        ckpt_dir=ckpt_dir, prefix=prefix, target=state)\n",
        "\n",
        "    train_text_batched = create_batches(train_text, batch_size)\n",
        "    train_mask_batched = create_batches(train_mask, batch_size)\n",
        "    train_label_batched = create_batches(train_label, batch_size)\n",
        "    test_text_batched = create_batches(test_text, batch_size)\n",
        "    test_mask_batched = create_batches(test_mask, batch_size)\n",
        "    test_label_batched = create_batches(test_label, batch_size)\n",
        "\n",
        "    loss_history_train, acc_history_train = [], []\n",
        "    loss_history_test, acc_history_test = [], []\n",
        "\n",
        "    for epoch in range(state.epoch + 1, state.epoch + 1 + epochs):\n",
        "        # Training\n",
        "        state, loss_train, acc_train = train_epoch(\n",
        "            state, train_text_batched, train_mask_batched, train_label_batched, eval=False)\n",
        "        loss_history_train.append(loss_train)\n",
        "        acc_history_train.append(acc_train)\n",
        "\n",
        "        # Evaluation\n",
        "        _ , loss_test, acc_test = train_epoch(\n",
        "            state, test_text_batched, test_mask_batched, test_label_batched, eval=True)\n",
        "        loss_history_test.append(loss_test)\n",
        "        acc_history_test.append(acc_test)\n",
        "\n",
        "        print ('Epoch: {}, Loss: {:.4f}, Accuracy: {:.4f} / '.format(\n",
        "            epoch, loss_train, acc_train), end='', flush=True)\n",
        "        print ('Loss(Test): {:.4f}, Accuracy(Test): {:.4f}'.format(\n",
        "            loss_test, acc_test), flush=True)\n",
        "\n",
        "        state = state.replace(epoch=state.epoch+1)\n",
        "        checkpoints.save_checkpoint(\n",
        "            ckpt_dir=ckpt_dir, prefix=prefix,\n",
        "            target=state, step=state.epoch, overwrite=True, keep=5)\n",
        "\n",
        "    history = {'loss_train': loss_history_train,\n",
        "               'acc_train': acc_history_train,\n",
        "               'loss_test': loss_history_test,\n",
        "               'acc_test': acc_history_test}\n",
        "\n",
        "    return state, history"
      ],
      "metadata": {
        "id": "dgw1_OtMXwlB"
      },
      "execution_count": 25,
      "outputs": []
    },
    {
      "cell_type": "markdown",
      "source": [
        "## Model Training"
      ],
      "metadata": {
        "id": "DDpzU0Q4n8HA"
      }
    },
    {
      "cell_type": "code",
      "source": [
        "class TrainState(train_state.TrainState):\n",
        "    epoch: int\n",
        "    dropout_rng: type(random.PRNGKey(0))\n",
        "\n",
        "model = TransformerForSequenceClassification(\n",
        "    num_labels=6, num_heads=8, embed_dim=512, num_hidden_layers=2)\n",
        "\n",
        "key, key1, key2 = random.split(random.PRNGKey(0), 3)\n",
        "variables = model.init(key1, train_text[:1])\n",
        "state = TrainState.create(\n",
        "    apply_fn=model.apply,\n",
        "    params=variables['params'],\n",
        "    tx=optax.adam(learning_rate=0.00005),\n",
        "    dropout_rng=key2,\n",
        "    epoch=0)\n",
        "\n",
        "param_count = []\n",
        "_ = jax.tree_util.tree_map(lambda x: param_count.append(np.prod(x.shape)), state.params)\n",
        "print('Number of parameters: {:,}'.format(np.sum(param_count)))"
      ],
      "metadata": {
        "id": "cUz4HBYTbIiG",
        "outputId": "555cf0fd-b5fc-4272-c825-c95afddf4245",
        "colab": {
          "base_uri": "https://localhost:8080/"
        }
      },
      "execution_count": 26,
      "outputs": [
        {
          "output_type": "stream",
          "name": "stdout",
          "text": [
            "Number of parameters: 22,001,670\n"
          ]
        }
      ]
    },
    {
      "cell_type": "code",
      "source": [
        "checkpoints.save_checkpoint(\n",
        "    ckpt_dir='./checkpoints/', prefix='TextClassification_checkpoint_',\n",
        "    target=state, step=state.epoch, overwrite=True)"
      ],
      "metadata": {
        "colab": {
          "base_uri": "https://localhost:8080/",
          "height": 36
        },
        "id": "b2Ci4MUjYtVH",
        "outputId": "ee97cf7c-2351-4672-b2da-727548bf909a"
      },
      "execution_count": 27,
      "outputs": [
        {
          "output_type": "execute_result",
          "data": {
            "text/plain": [
              "'checkpoints/TextClassification_checkpoint_0'"
            ],
            "application/vnd.google.colaboratory.intrinsic+json": {
              "type": "string"
            }
          },
          "metadata": {},
          "execution_count": 27
        }
      ]
    },
    {
      "cell_type": "code",
      "source": [
        "%%time\n",
        "ckpt_dir = './checkpoints/'\n",
        "prefix = 'TextClassification_checkpoint_'\n",
        "state, history = fit(state, ckpt_dir, prefix,\n",
        "        train_text, train_mask, train_label,\n",
        "        test_text, test_mask, test_label,\n",
        "        epochs=16, batch_size=32)"
      ],
      "metadata": {
        "colab": {
          "base_uri": "https://localhost:8080/"
        },
        "id": "ReTQ12LMZKeA",
        "outputId": "9897f62d-1f06-464a-893b-121941ae4008"
      },
      "execution_count": 28,
      "outputs": [
        {
          "output_type": "stream",
          "name": "stdout",
          "text": [
            "Epoch: 1, Loss: 1.6665, Accuracy: 0.3091 / Loss(Test): 1.5603, Accuracy(Test): 0.3814\n",
            "Epoch: 2, Loss: 1.5733, Accuracy: 0.3633 / Loss(Test): 1.4327, Accuracy(Test): 0.4668\n",
            "Epoch: 3, Loss: 1.3720, Accuracy: 0.4808 / Loss(Test): 0.8856, Accuracy(Test): 0.6840\n",
            "Epoch: 4, Loss: 0.9350, Accuracy: 0.6612 / Loss(Test): 0.4803, Accuracy(Test): 0.8438\n",
            "Epoch: 5, Loss: 0.5923, Accuracy: 0.7946 / Loss(Test): 0.3575, Accuracy(Test): 0.8755\n",
            "Epoch: 6, Loss: 0.4375, Accuracy: 0.8466 / Loss(Test): 0.3222, Accuracy(Test): 0.8889\n",
            "Epoch: 7, Loss: 0.3604, Accuracy: 0.8713 / Loss(Test): 0.2950, Accuracy(Test): 0.8934\n",
            "Epoch: 8, Loss: 0.3209, Accuracy: 0.8812 / Loss(Test): 0.2723, Accuracy(Test): 0.8943\n",
            "Epoch: 9, Loss: 0.2838, Accuracy: 0.8912 / Loss(Test): 0.2664, Accuracy(Test): 0.8993\n",
            "Epoch: 10, Loss: 0.2609, Accuracy: 0.8996 / Loss(Test): 0.2626, Accuracy(Test): 0.9043\n",
            "Epoch: 11, Loss: 0.2396, Accuracy: 0.9065 / Loss(Test): 0.2601, Accuracy(Test): 0.9072\n",
            "Epoch: 12, Loss: 0.2200, Accuracy: 0.9138 / Loss(Test): 0.2637, Accuracy(Test): 0.9003\n",
            "Epoch: 13, Loss: 0.2075, Accuracy: 0.9175 / Loss(Test): 0.2534, Accuracy(Test): 0.9023\n",
            "Epoch: 14, Loss: 0.1931, Accuracy: 0.9218 / Loss(Test): 0.2475, Accuracy(Test): 0.9067\n",
            "Epoch: 15, Loss: 0.1868, Accuracy: 0.9229 / Loss(Test): 0.2610, Accuracy(Test): 0.9033\n",
            "Epoch: 16, Loss: 0.1714, Accuracy: 0.9283 / Loss(Test): 0.2553, Accuracy(Test): 0.9043\n",
            "CPU times: user 8min 1s, sys: 18.2 s, total: 8min 20s\n",
            "Wall time: 8min 25s\n"
          ]
        }
      ]
    },
    {
      "cell_type": "code",
      "source": [
        "df = DataFrame({'Accuracy (Train)': history['acc_train'],\n",
        "                'Accuracy (Test)': history['acc_test']})\n",
        "df.index.name = 'Epochs'\n",
        "ax = df.plot(figsize=(5, 3))\n",
        "ax.set_xticks(df.index)\n",
        "_ = ax.set_xticklabels(df.index+1)\n",
        "\n",
        "df = DataFrame({'Loss (Train)': history['loss_train'],\n",
        "                'Loss (Test)': history['loss_test']})\n",
        "df.index.name = 'Epochs'\n",
        "ax = df.plot(figsize=(5, 3))\n",
        "ax.set_xticks(df.index)\n",
        "_ = ax.set_xticklabels(df.index+1)"
      ],
      "metadata": {
        "colab": {
          "base_uri": "https://localhost:8080/",
          "height": 605
        },
        "id": "sk7B3XPShVxH",
        "outputId": "5f8f455a-e238-4173-c4d1-4c56d00e5dc0"
      },
      "execution_count": 29,
      "outputs": [
        {
          "output_type": "display_data",
          "data": {
            "text/plain": [
              "<Figure size 500x300 with 1 Axes>"
            ],
            "image/png": "[encoded data removed]"
          },
          "metadata": {}
        },
        {
          "output_type": "display_data",
          "data": {
            "text/plain": [
              "<Figure size 500x300 with 1 Axes>"
            ],
            "image/png": "[encoded data removed]"
          },
          "metadata": {}
        }
      ]
    },
    {
      "cell_type": "markdown",
      "source": [
        "## Model Evaluation"
      ],
      "metadata": {
        "id": "URmRQI1IjAXs"
      }
    },
    {
      "cell_type": "code",
      "source": [
        "predictions = jax.device_get(\n",
        "    state.apply_fn({'params': state.params}, test_text, test_mask))"
      ],
      "metadata": {
        "id": "mV-zXQXnBXoU"
      },
      "execution_count": 30,
      "outputs": []
    },
    {
      "cell_type": "code",
      "source": [
        "from sklearn.metrics import confusion_matrix, ConfusionMatrixDisplay\n",
        "\n",
        "cm = confusion_matrix(\n",
        "    y_pred = np.argmax(predictions, axis=1),\n",
        "    y_true = np.argmax(test_label, axis=1),\n",
        "    normalize='true')\n",
        "fig, ax = plt.subplots(figsize=(5, 5))\n",
        "disp = ConfusionMatrixDisplay(cm, display_labels=emotions['validation'].features['label'].names)\n",
        "_ = disp.plot(cmap='Blues', values_format='.2f', colorbar=False, ax=ax)"
      ],
      "metadata": {
        "colab": {
          "base_uri": "https://localhost:8080/",
          "height": 465
        },
        "id": "9A2FHUXCCUXK",
        "outputId": "e7aa5d77-6e54-430b-c939-b5a5005ff21b"
      },
      "execution_count": 31,
      "outputs": [
        {
          "output_type": "display_data",
          "data": {
            "text/plain": [
              "<Figure size 500x500 with 1 Axes>"
            ],
            "image/png": "[encoded data removed]"
          },
          "metadata": {}
        }
      ]
    },
    {
      "cell_type": "code",
      "source": [
        "input_text = [\n",
        "    \"I am so heartbroken that I don't know what to do.\",\n",
        "    \"I am happy to be here with you.\",\n",
        "    \"I'm caring about you as your mother.\",\n",
        "    \"I'm irritated with your behavior.\",\n",
        "    \"I'm afraid of what might happen to the people I love.\",\n",
        "    \"I was shocked to see the broken window.\"]\n",
        "\n",
        "tokenized_text = tokenizer(input_text, max_length=len(train_text[0]),\n",
        "                           padding='max_length', truncation=True)\n",
        "input_ids = np.array(tokenized_text['input_ids'])\n",
        "mask = np.array(tokenized_text['attention_mask'])\n",
        "\n",
        "predictions = jax.device_get(\n",
        "    state.apply_fn({'params': state.params}, input_ids, mask))"
      ],
      "metadata": {
        "id": "3iLI-XwflwZ6"
      },
      "execution_count": 32,
      "outputs": []
    },
    {
      "cell_type": "code",
      "source": [
        "n = len(predictions)\n",
        "fig = plt.figure(figsize=(5, 3.5 * n))\n",
        "plt.subplots_adjust(hspace=0.3)\n",
        "\n",
        "for c, pred in enumerate(predictions):\n",
        "    probs = np.exp(pred)/sum(np.exp(pred))\n",
        "    subplot = fig.add_subplot(n, 1, c+1)\n",
        "    subplot.set_xticks(range(6))\n",
        "    subplot.set_xlim([-0.5, 5.5])\n",
        "    subplot.set_ylim([0, 1])\n",
        "    subplot.set_xticklabels(emotion_labels)\n",
        "    subplot.set_title(input_text[c], fontsize=11)\n",
        "    _ = subplot.bar(range(6), probs, align='center')"
      ],
      "metadata": {
        "colab": {
          "base_uri": "https://localhost:8080/",
          "height": 1000
        },
        "id": "loBs_AaxnbEk",
        "outputId": "1f867c7d-00d4-493a-b186-98a8cce5470b"
      },
      "execution_count": 37,
      "outputs": [
        {
          "output_type": "display_data",
          "data": {
            "text/plain": [
              "<Figure size 500x2100 with 6 Axes>"
            ],
            "image/png": "[encoded data removed]"
          },
          "metadata": {}
        }
      ]
    }
  ]
}